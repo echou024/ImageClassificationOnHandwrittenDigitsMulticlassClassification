{
  "cells": [
    {
      "cell_type": "markdown",
      "metadata": {
        "id": "view-in-github",
        "colab_type": "text"
      },
      "source": [
        "<a href=\"https://colab.research.google.com/github/echou024/ImageClassificationOnHandwrittenDigitsMulticlassClassification/blob/main/ImageClassificationOnHandwrittenDigitsMulticlassClassification.ipynb\" target=\"_parent\"><img src=\"https://colab.research.google.com/assets/colab-badge.svg\" alt=\"Open In Colab\"/></a>"
      ]
    },
    {
      "cell_type": "markdown",
      "metadata": {
        "id": "hsywQWEI8pzj"
      },
      "source": [
        "# Overview\n",
        "Performs image classification on a handwritten digits dataset using a two-layer neural network with loss functions, gradients, optimizers. This method uses Multiclass classification.\n",
        "\n",
        "\n",
        "We will use [MNIST](https://en.wikipedia.org/wiki/MNIST_database) handwritten digits dataset. The dataset consists 10 handwritten digits (0,1,...,9).\n",
        "The training data consists of 60000 images of size $28 \\times 28$ pixels; the test data consists of 10000 images.\n",
        "\n",
        "We will use the functionality of Pandas (https://pandas.pydata.org/), Matplotlib (https://matplotlib.org/), and Numpy (http://www.numpy.org/).\n"
      ]
    },
    {
      "cell_type": "code",
      "execution_count": null,
      "metadata": {
        "id": "3d6urIY6Ci2D"
      },
      "outputs": [],
      "source": [
        "import numpy as np\n",
        "import matplotlib.pyplot as plt\n",
        "\n",
        "# make sure you import here everything else you may need"
      ]
    },
    {
      "cell_type": "code",
      "execution_count": null,
      "metadata": {
        "id": "Jdo3YbSzAN5D",
        "colab": {
          "base_uri": "https://localhost:8080/",
          "height": 178
        },
        "outputId": "6d13e273-af89-4dec-bab1-e431cd0a5a30"
      },
      "outputs": [
        {
          "output_type": "stream",
          "name": "stdout",
          "text": [
            "Downloading data from https://storage.googleapis.com/tensorflow/tf-keras-datasets/mnist.npz\n",
            "11490434/11490434 [==============================] - 0s 0us/step\n",
            "Training data shape: (60000, 28, 28)\n",
            "Test data shape: (10000, 28, 28)\n"
          ]
        },
        {
          "output_type": "display_data",
          "data": {
            "text/plain": [
              "<Figure size 2000x200 with 10 Axes>"
            ],
            "image/png": "[encoded data removed]"
          },
          "metadata": {}
        }
      ],
      "source": [
        "from keras.datasets import mnist\n",
        "(x_train, y_train), (x_test, y_test) = mnist.load_data()\n",
        "\n",
        "print('Training data shape:',x_train.shape)\n",
        "print('Test data shape:',x_test.shape)\n",
        "\n",
        "n_img=10\n",
        "plt.figure(figsize=(n_img*2,2))\n",
        "plt.gray()\n",
        "for i in range(n_img):\n",
        "    plt.subplot(1,n_img,i+1)\n",
        "    plt.imshow(x_train[i])\n",
        "plt.show()"
      ]
    },
    {
      "cell_type": "markdown",
      "metadata": {
        "id": "Uw4N4norAN5D"
      },
      "source": [
        "We will be vectorizing the training and test images. So, the size of each vector will be 784."
      ]
    },
    {
      "cell_type": "code",
      "execution_count": null,
      "metadata": {
        "id": "VOIMLKYtAN5E",
        "colab": {
          "base_uri": "https://localhost:8080/"
        },
        "outputId": "febb92e8-90d5-41fc-a424-7b1a2ff28667"
      },
      "outputs": [
        {
          "output_type": "stream",
          "name": "stdout",
          "text": [
            "Training data shape after reshaping: (60000, 784)\n",
            "Test data shape after reshaping:: (10000, 784)\n"
          ]
        }
      ],
      "source": [
        "x_train=x_train.reshape(x_train.shape[0],-1)\n",
        "x_test=x_test.reshape(x_test.shape[0],-1)\n",
        "\n",
        "print('Training data shape after reshaping:',x_train.shape)\n",
        "print('Test data shape after reshaping::',x_test.shape)"
      ]
    },
    {
      "cell_type": "markdown",
      "metadata": {
        "id": "zoli2hpzp2gy"
      },
      "source": [
        "Multiclass classification:\n",
        "\n",
        "Now we will build a classifier to separate all the digits. For this purpose, we will only change the last layer and the loss.\n",
        "\n",
        "\n",
        "Instead of using a single output, we will provide 10 outputs; and instead of using a binary cross entropy loss, we will use mutli-class cross entropy loss.\n",
        "\n",
        "In multinomal logistic regression (aka softmax regression), we define the posterior probability of label $y \\in \\{0,\\ldots, K-1\\}$ as\n",
        "\n",
        "\n",
        "$$p(y = c | \\mathbf{x}) = \\frac{\\exp(\\mathbf{w}_c^T\\mathbf{x})}{\\sum_{k=1}^K \\exp(\\mathbf{w}_k^T\\mathbf{x})} = \\mathbf{p}_c.$$\n",
        "\n",
        "In other words, last layer of the network provides a probability vector $\\mathbf{p} \\in \\mathbb{R}^K$, such that each $0 \\le \\mathbf{p}_c \\le 1$ and $\\sum_c \\mathbf{p}_c = 1$."
      ]
    },
    {
      "cell_type": "markdown",
      "metadata": {
        "id": "vxGPKVAUBO-w"
      },
      "source": [
        "### Softmax function:\n",
        "\n",
        "Let us first define the softmax function, which is a multinomal extension of the sigmoid function that maps a vector of length $K$ to a probability vector.\n",
        "\n",
        "We can define ```softmax``` function on a vector $\\mathbf{z} \\in \\mathbb{R}^K$ as $\\mathbf{p} = \\text{softmax}(\\mathbf{z})$:\n",
        "\n",
        "$$\\mathbf{p}_c(\\mathbf{z}) = \\frac{\\exp(\\mathbf{z}_c)}{\\sum_{k=1}^K \\exp(\\mathbf{z}_k)}$$\n",
        "\n"
      ]
    },
    {
      "cell_type": "code",
      "execution_count": null,
      "metadata": {
        "id": "wezeelLcBSCo"
      },
      "outputs": [],
      "source": [
        "def softmax(Z):\n",
        "    # Z -- K x N numpy.ndarray, K is the number of classes, N is the number of samples\n",
        "    # TODO\n",
        "    # your code goes here...\n",
        "\n",
        "    expZ = np.exp(Z)\n",
        "\n",
        "    probs = expZ / expZ.sum(axis=0, keepdims=True)\n",
        "\n",
        "    return probs"
      ]
    },
    {
      "cell_type": "markdown",
      "metadata": {
        "id": "9J53N9_wWMUf"
      },
      "source": [
        "We have to note that the numerical range of floating point numbers in numpy is limited. For `float64` the upper bound is $10^{308}$. For exponential, its not difficult to overshoot that limit, in which case python returns `nan`.\n",
        "\n",
        "To make our softmax function numerically stable, we simply normalize the values in the vector, by multiplying the numerator and denominator with a constant `C` as\n",
        "\n",
        "\\begin{align*}\n",
        "\\mathbf{p}_c  &= \\frac{\\exp(\\mathbf{z}_c)}{\\sum_{k=1}^K \\exp(\\mathbf{z}_k)} \\\\\n",
        "& = \\frac{C\\exp(\\mathbf{z}_c)}{C\\sum_{k=1}^K \\exp(\\mathbf{z}_k)}\\\\\n",
        "& = \\frac{\\exp(\\mathbf{z}_c + \\log C)}{\\sum_{k=1}^K \\exp(\\mathbf{z}_k + \\log C)}.\n",
        "\\end{align*}\n",
        "\n",
        "We can choose an arbitrary value for `log(C)` term, but generally `log(C) = −max(z)` is chosen\n"
      ]
    },
    {
      "cell_type": "markdown",
      "metadata": {
        "id": "C0qcy_JAArEo"
      },
      "source": [
        "### Multiclass cross entropy loss function:\n",
        "\n",
        "We will minimize the cross entropy loss. You will use the true labels and predicted labels of a batch of N samples.\n",
        "\n",
        "The multi-class cross entropy loss for $i^{th}$ sample can be written as\n",
        "$$Loss_i = -\\sum_c \\mathbf{1}(y_i = c) \\log \\mathbf{p}_c $$\n",
        "where $y_i$ is the true label and\n",
        "\n",
        "$$\\mathbf{1}(y_i = c) = \\begin{cases} 1 & y_i =c \\\\ 0 & \\text{otherwise} \\end{cases}$$\n",
        "is an indicator function.\n",
        "\n",
        "We can find the average loss for a batch of N samples as $Loss=\\frac{1}{N}\\sum_{i=1}^{N} Loss_i$.\n"
      ]
    },
    {
      "cell_type": "code",
      "execution_count": null,
      "metadata": {
        "id": "tebVzE2SAoTB"
      },
      "outputs": [],
      "source": [
        "def MultiClassCrossEntropyLoss(Y_true, probs):\n",
        "\n",
        "  # TODO\n",
        "  # Write your code here\n",
        "\n",
        "  # probs -- K x N array\n",
        "  # Y_true -- 1 x N array\n",
        "  # loss --  sum Loss_i over N samples\n",
        "\n",
        "  total_loss = 0\n",
        "\n",
        "  # Iterate over each sample in the batch\n",
        "  for i in range(Y_true.shape[0]):\n",
        "    # Get the true label for the current sample\n",
        "    true_label = Y_true[i]\n",
        "\n",
        "    # Calculate the loss for the current sample\n",
        "    loss_i = -np.log(probs[true_label, i])\n",
        "\n",
        "    # Add the loss for the current sample to the total loss\n",
        "    total_loss += loss_i\n",
        "\n",
        "    # Calculate the average loss over all samples\n",
        "    loss = total_loss / Y_true.shape[0]\n",
        "\n",
        "  return loss"
      ]
    },
    {
      "cell_type": "markdown",
      "metadata": {
        "id": "tbRPrVLpjFIo"
      },
      "source": [
        "### Derivative of the multi-class cross entropy loss:\n",
        "\n",
        "Let us assume that $\\mathbf{p} = \\text{softmax}(\\mathbf{z})$.\n",
        "\n",
        "Note that the derivative of the loss w.r.t. $\\mathbf{p}_j$ can be written as\n",
        "$$\\frac{\\partial Loss_i }{\\partial \\mathbf{p}_j} = \\begin{cases} -1/\\mathbf{p}_j & j = y_i \\\\ 0 & j \\ne y_i \\end{cases}. $$\n",
        "\n",
        "Note that we can use _total derivative_ to compute the derivative of the loss for $i$th sample w.r.t. $j$th entry in $\\mathbf{z}$ as\n",
        "\n",
        "\\begin{align*}\n",
        "\\frac{\\partial Loss_i}{\\partial \\mathbf{z}_j} = \\sum_c \\frac{\\partial Loss_i}{\\partial \\mathbf{p}_c}\\frac{\\partial \\mathbf{p}_c}{\\partial \\mathbf{z}_j}.\n",
        "\\end{align*}\n",
        "\n",
        "From our discussion above, we know that the $\\frac{\\partial Loss_i}{\\partial \\mathbf{p}_c} = 0$ if $c \\ne y_i$.\n",
        "\n",
        "\n",
        "\\begin{align*}\n",
        "\\frac{\\partial Loss_i}{\\partial \\mathbf{z}_j} &= -\\frac{1}{\\mathbf{p}_c} \\frac{\\partial \\mathbf{p}_c}{\\partial \\mathbf{z}_j} \\\\\n",
        "& = \\begin{cases} \\mathbf{p}_j - 1 & j = y_i \\\\ \\mathbf{p}_j & j \\ne y_i. \\end{cases}\n",
        "\\end{align*}\n",
        "\n",
        "Therefore, $$\\delta^{(2)} = \\nabla_{\\mathbf{z}^{(2)}} Loss_i = \\mathbf{p} - \\mathbf{1}_{y_i}.$$\n",
        "\n",
        "where $\\mathbf{1}_{y_i}$ is a __one-hot vector__ that has length $K$ and is zero everywhere except 1 at index same as $y_i$.\n"
      ]
    },
    {
      "cell_type": "markdown",
      "metadata": {
        "id": "462ORdiFLdz2"
      },
      "source": [
        "### Training data:\n"
      ]
    },
    {
      "cell_type": "code",
      "execution_count": null,
      "metadata": {
        "id": "BZ6Z-yPgL3xm",
        "colab": {
          "base_uri": "https://localhost:8080/"
        },
        "outputId": "2274d842-6f64-48ec-ceb2-4ac3f88f8368"
      },
      "outputs": [
        {
          "output_type": "stream",
          "name": "stdout",
          "text": [
            "Training data shape: (10000, 784)\n",
            "Test data shape: (10000, 784)\n",
            "Training data shape: (784, 10000)\n",
            "Test data shape: (784, 10000)\n"
          ]
        }
      ],
      "source": [
        "# Pick training samples\n",
        "num_samples = 1000\n",
        "\n",
        "# Training data\n",
        "x = np.zeros((0,784))\n",
        "y = np.zeros((0))\n",
        "for label in range(10):\n",
        "  x1 = x_train[y_train == label]\n",
        "  x1 = x1[:num_samples]\n",
        "  y1 = y_train[y_train == label]\n",
        "  y1 = y1[:num_samples]\n",
        "\n",
        "  x = np.concatenate((x,x1),axis=0)\n",
        "  y = np.concatenate((y,y1),axis=0)\n",
        "\n",
        "train_x = x\n",
        "train_y = y\n",
        "print(\"Training data shape:\", train_x.shape)\n",
        "\n",
        "\n",
        "# Test data\n",
        "test_x = x_test\n",
        "test_y = y_test\n",
        "print(\"Test data shape:\", test_x.shape)\n",
        "\n",
        "# reshape data\n",
        "train_x = train_x.T\n",
        "test_x = test_x.T\n",
        "print(\"Training data shape:\", train_x.shape)\n",
        "print(\"Test data shape:\", test_x.shape)"
      ]
    },
    {
      "cell_type": "code",
      "execution_count": null,
      "metadata": {
        "id": "U-OQ26bu6cSG"
      },
      "outputs": [],
      "source": [
        "# You can convert the array of labels into an array of one hot vectors as follows\n",
        "N = len(train_y)\n",
        "onehot_y = np.zeros((10,N))\n",
        "onehot_y[train_y.astype(int),np.arange(N)] = 1"
      ]
    },
    {
      "cell_type": "markdown",
      "metadata": {
        "id": "xoXHKji6L3xo"
      },
      "source": [
        "### Network Architecture\n",
        "\n",
        "We will be using a two layer neural network in our experiment. The input layer has 784 nodes, the hidden layer will have 256 nodes and the output layer will have 10 nodes. First layer will have __sigmoid__ activation and second layer will have __softmax__ activation.\n",
        "\n",
        "The equations for feedforward operation will be as follows.\n",
        "\n",
        "$$\\mathbf{z}^{(1)}=W^{(1)} \\mathbf{x}+ \\mathbf{b}^{(1)}\\\\\\mathbf{y}^{(1)}=\\text{sigmoid}(\\mathbf{z}^{(1)})\\\\\\mathbf{z}^{(2)}=W^{(2)}  \\mathbf{y}^{(1)}+ \\mathbf{b}^{(2)} \\\\\\mathbf{p} = \\mathbf{y}^{(2)}=\\text{softmax}(\\mathbf{z}^{(2)})$$\n",
        "\n",
        "where $\\mathbf{x}\\in \\mathbb{R}^{784}$ is the input layer, $\\mathbf{y}^{(1)}\\in \\mathbb{R}^{256}$ is the hidden layer, $\\mathbf{y}^{(2)} \\in \\mathbb{R}$ is the output layer, $W^{(1)}\\in \\mathbb{R}^{256\\times 784}$ is the first layer weights, $W^{(2)}\\in \\mathbb{R}^{10\\times 256}$ is the second layer weights, $\\mathbf{b}^{(1)}\\in \\mathbb{R}^{256}$ is the first layer bias, $\\mathbf{b}^{(2)}\\in \\mathbb{R}^{10}$ is the second layer bias vector."
      ]
    },
    {
      "cell_type": "markdown",
      "metadata": {
        "id": "2Fqsp1BvL3xp"
      },
      "source": [
        "### Network initialization:\n",
        "\n",
        "We initialize the weights for $W^{(1)}$ and $W^{(2)}$ with random values drawn from normal distribution with zero mean and 0.01 standard deviation. We will initialize bias vectors $\\mathbf{b}^{(1)}$ and $\\mathbf{b^{(2)}}$ with zero values.\n",
        "\n",
        "We can fix the seed for random initialization for reproducibility."
      ]
    },
    {
      "cell_type": "code",
      "execution_count": null,
      "metadata": {
        "id": "nu-3CQlRL3xp"
      },
      "outputs": [],
      "source": [
        "def TwoLayerNetwork(layer_dims=[784,256,10]):\n",
        "    # TODO\n",
        "    # Your code goes here\n",
        "\n",
        "    # Fix the seed\n",
        "    np.random.seed(3)\n",
        "\n",
        "    #Initialize the weights\n",
        "\n",
        "    W1 = np.random.randn(layer_dims[1], layer_dims[0]) * 0.01\n",
        "\n",
        "    W2 = np.random.randn(layer_dims[2], layer_dims[1]) * 0.01\n",
        "\n",
        "    b1 = np.zeros((layer_dims[1], 1))\n",
        "\n",
        "    b2 = np.zeros((layer_dims[2], 1))\n",
        "\n",
        "    params = [W1, b1, W2, b2]\n",
        "\n",
        "    return params"
      ]
    },
    {
      "cell_type": "markdown",
      "metadata": {
        "id": "av7l9tOKUuAN"
      },
      "source": [
        "### Forward propagation:\n",
        "Next, we will write the code for the forward pass for two layer network. Each layer consists of an affine function (fully-connected layer) followed by an activation function. You wil also return the intermediate results ($\\mathbf{x}, \\mathbf{z}^{(1)}, \\mathbf{y}^{(1)}, \\mathbf{z}^{(2)}$) in addition to final output ($\\mathbf{y}^{(2)}$). You will need the intermediate outputs for the backpropagation step."
      ]
    },
    {
      "cell_type": "code",
      "source": [
        "def sigmoid(Z):\n",
        "  return 1 / (1 + np.exp(-Z))"
      ],
      "metadata": {
        "id": "0ZR1jJRBioTr"
      },
      "execution_count": null,
      "outputs": []
    },
    {
      "cell_type": "code",
      "execution_count": null,
      "metadata": {
        "id": "kLSoTwFkUuAO"
      },
      "outputs": [],
      "source": [
        "def forward(X, params):\n",
        "\n",
        "    # TODO\n",
        "    # Write your codes here\n",
        "\n",
        "    # X -- 784 x N array\n",
        "    # params --\n",
        "      # W1 -- 256 x 784 matrix\n",
        "      # b1 -- 256 x 1 vector\n",
        "      # W2 -- 10 x 256 matrix\n",
        "      # b2 -- 10 x 1 scalar\n",
        "    # probs -- 10 x N output\n",
        "\n",
        "    W1, b1, W2, b2 = params\n",
        "\n",
        "    X = X.T\n",
        "\n",
        "    #first layer\n",
        "    Z1 = np.dot(W1, X) + b1\n",
        "    Y1 = sigmoid(Z1)\n",
        "\n",
        "    #second layer\n",
        "    Z2 = np.dot(W2, Y1) + b2\n",
        "    probs = softmax(Z2)\n",
        "\n",
        "    intermediate = [X, Z1, Y1, Z2]\n",
        "\n",
        "\n",
        "    return probs, intermediate"
      ]
    },
    {
      "cell_type": "markdown",
      "metadata": {
        "id": "Z3QjvXHIUuAO"
      },
      "source": [
        "### Back propagation step:\n",
        "\n",
        "Now we will implement the backpropagation step for the two layer neural network using softmax layer and loss function.\n",
        "\n",
        "\n",
        "You will need the gradient of the Loss w.r.t. $W^{(l)},\\mathbf{b}^{(l)}$ for $l = 1,2$ for all the training samples.  \n",
        "\n",
        "We can write the gradient of Loss with respect to $W^{(l)}, \\mathbf{b}^{(l)}$ for a single sample as\n",
        "\n",
        "$$\\nabla_{W^{(l)}} Loss_i = \\delta^{(l)} \\mathbf{y}^{(l-1)T},$$  \n",
        "$$\\nabla_{\\mathbf{b}^{(l)}} Loss_i = \\delta^{(l)},$$\n",
        "\n",
        "\n",
        "where\n",
        "$$\\delta^{(l)} = \\nabla_{\\mathbf{z}^{(l)}} Loss = \\nabla_{\\mathbf{y}^{(l)}} Loss \\odot \\varphi'(\\mathbf{z}^{(l)}).$$\n",
        "\n",
        "We saw above that for an $i$th sample, $\\delta^{(2)} = \\nabla_{\\mathbf{z}^{(2)}} Loss_i = \\mathbf{p} - \\mathbf{1}_{y_i},$ where $\\mathbf{1}_{y_i}$ is a __one-hot vector__ that has length $K$ and is zero everywhere except 1 at index same as $y_i$ and $\\mathbf{p}$ is the outpu probability vector for the $i$th sample.\n",
        "\n",
        "Recall that for the intermediate layers $l<L$, we can write\n",
        "$$\\delta^{(l)} = W^{(l+1)T}\\delta^{(l+1)} \\odot \\varphi'(\\mathbf{z}^{(l)}).$$\n",
        "\n",
        "\n",
        "\n",
        "\n",
        "**Once we have the gradients $\\nabla_{W^{(l)}} Loss_i, \\nabla_{\\mathbf{b}^{(l)}} Loss_i$ for all $i$. We can compute their average to compute the gradient of the total loss function as**\n",
        "\n",
        "$$\\nabla_{W^{(l)}} Loss = \\frac{1}{N} \\sum_i \\nabla_{W^{(l)}} Loss_i, $$\n",
        "$$ \\nabla_{\\mathbf{b}^{(l)}} Loss = \\frac{1}{N} \\sum_i  \\nabla_{\\mathbf{b}^{(l)}} Loss_i.$$\n",
        "\n"
      ]
    },
    {
      "cell_type": "code",
      "source": [
        "def sigmoid_derivative(Z):\n",
        "    s = 1 / (1 + np.exp(-Z))\n",
        "    return s * (1 - s)"
      ],
      "metadata": {
        "id": "RjocTNCIjvfJ"
      },
      "execution_count": null,
      "outputs": []
    },
    {
      "cell_type": "code",
      "execution_count": null,
      "metadata": {
        "id": "T0hPvx0SUuAP"
      },
      "outputs": [],
      "source": [
        "def backward(Y_true, probs, intermediate, params):\n",
        "\n",
        "    # Inputs:\n",
        "      # Y_true -- true labels\n",
        "      # probs -- 10 x N output of the last layer\n",
        "      # intermediate -- X, Z1, Y1, Z2\n",
        "      # params -- W1, b1, W2, b2\n",
        "\n",
        "    # Outputs:\n",
        "      # grads -- [grad_W1, grad_b1, grad_W2, grad_b2]\n",
        "\n",
        "    # TODO\n",
        "    # Write your codes here\n",
        "\n",
        "    W1, b1, W2, b2 = params\n",
        "    X, Z1, Y1, Z2 = intermediate\n",
        "    N = X.shape[1]  # Number of samples\n",
        "\n",
        "    # Convert Y_true to one-hot encoding\n",
        "    Y_true_one_hot = np.zeros_like(probs)\n",
        "    Y_true_one_hot[Y_true, np.arange(N)] = 1\n",
        "\n",
        "    # Delta for output layer\n",
        "    delta2 = probs - Y_true_one_hot\n",
        "\n",
        "    # Gradients for W2 and b2\n",
        "    grad_W2 = np.dot(delta2, Y1.T) / N\n",
        "    grad_b2 = np.sum(delta2, axis=1, keepdims=True) / N\n",
        "\n",
        "    # Delta for hidden layer\n",
        "    delta1 = np.dot(W2.T, delta2) * sigmoid_derivative(Z1)\n",
        "\n",
        "    # Gradients for W1 and b1\n",
        "    grad_W1 = np.dot(delta1, X.T) / N\n",
        "    grad_b1 = np.sum(delta1, axis=1, keepdims=True) / N\n",
        "\n",
        "    grads = [grad_W1, grad_b1, grad_W2, grad_b2]\n",
        "\n",
        "    return grads"
      ]
    },
    {
      "cell_type": "markdown",
      "metadata": {
        "id": "1DTxxcDTvVQD"
      },
      "source": [
        "### Train the model:\n",
        "We will use the forward and backward functions defined above with the same optimizer defined in the previous question to train our multi-class classificaiton model.\n",
        "\n",
        "We will specify the number of nodes in the layers, number of epochs and learning rate and initialize the network"
      ]
    },
    {
      "cell_type": "code",
      "execution_count": null,
      "metadata": {
        "id": "xmhkhUisUuAQ"
      },
      "outputs": [],
      "source": [
        "layer_dims = [train_x.shape[0],256,10]\n",
        "epochs = 500\n",
        "lr = 0.01\n",
        "\n",
        "params = TwoLayerNetwork(layer_dims)"
      ]
    },
    {
      "cell_type": "markdown",
      "metadata": {
        "id": "9DZAfG5QUuAQ"
      },
      "source": [
        "Then we train the network for the number of epochs specified above. In every epoch, we will do the following:\n",
        "1. Calculate the forward pass to get estimated labels.\n",
        "2. Use the estimated labels calculate loss. We will be recording loss for every epoch.\n",
        "3. Use backpropagation to calculate gradients.\n",
        "4. Use gradient descent to update the weights and biases.\n"
      ]
    },
    {
      "cell_type": "code",
      "execution_count": null,
      "metadata": {
        "id": "P1zSP6g8UuAQ",
        "colab": {
          "base_uri": "https://localhost:8080/"
        },
        "outputId": "5a08ab85-ade0-48d3-f1e5-ddef9a4f676f"
      },
      "outputs": [
        {
          "output_type": "stream",
          "name": "stdout",
          "text": [
            "Epoch 0: Loss = 2.316448679611507\n",
            "Epoch 1: Loss = 2.2996223582991973\n",
            "Epoch 2: Loss = 2.2833072828125713\n",
            "Epoch 3: Loss = 2.2674923675851084\n",
            "Epoch 4: Loss = 2.2521115906596947\n",
            "Epoch 5: Loss = 2.237136333064209\n",
            "Epoch 6: Loss = 2.2225265636036977\n",
            "Epoch 7: Loss = 2.2082400376377986\n",
            "Epoch 8: Loss = 2.1942000082378437\n",
            "Epoch 9: Loss = 2.1803665972302575\n",
            "Epoch 10: Loss = 2.1667233413164566\n",
            "Epoch 11: Loss = 2.153231981849488\n",
            "Epoch 12: Loss = 2.139846610876332\n",
            "Epoch 13: Loss = 2.126524061043582\n",
            "Epoch 14: Loss = 2.1132214520177492\n",
            "Epoch 15: Loss = 2.0999198676746915\n",
            "Epoch 16: Loss = 2.086613922842861\n",
            "Epoch 17: Loss = 2.0733035938283453\n",
            "Epoch 18: Loss = 2.0599898715963336\n",
            "Epoch 19: Loss = 2.0466797510624346\n",
            "Epoch 20: Loss = 2.0333747789903227\n",
            "Epoch 21: Loss = 2.020070061593798\n",
            "Epoch 22: Loss = 2.0067669299910946\n",
            "Epoch 23: Loss = 1.9934713103198956\n",
            "Epoch 24: Loss = 1.9801845949015078\n",
            "Epoch 25: Loss = 1.9669033837652325\n",
            "Epoch 26: Loss = 1.9536380674321452\n",
            "Epoch 27: Loss = 1.9404040885369058\n",
            "Epoch 28: Loss = 1.9271970269498484\n",
            "Epoch 29: Loss = 1.914012873222217\n",
            "Epoch 30: Loss = 1.900857712412152\n",
            "Epoch 31: Loss = 1.8877408041166968\n",
            "Epoch 32: Loss = 1.8746668450889161\n",
            "Epoch 33: Loss = 1.8616371816926245\n",
            "Epoch 34: Loss = 1.8486561602303906\n",
            "Epoch 35: Loss = 1.8357322406517982\n",
            "Epoch 36: Loss = 1.822871108749924\n",
            "Epoch 37: Loss = 1.8100722660116677\n",
            "Epoch 38: Loss = 1.7973326039715387\n",
            "Epoch 39: Loss = 1.784648486884227\n",
            "Epoch 40: Loss = 1.7720178166033167\n",
            "Epoch 41: Loss = 1.7594413196189365\n",
            "Epoch 42: Loss = 1.7469247429161145\n",
            "Epoch 43: Loss = 1.734473595241877\n",
            "Epoch 44: Loss = 1.7220938240867296\n",
            "Epoch 45: Loss = 1.7097920699012037\n",
            "Epoch 46: Loss = 1.6975734098808462\n",
            "Epoch 47: Loss = 1.6854419559978475\n",
            "Epoch 48: Loss = 1.6733951593720033\n",
            "Epoch 49: Loss = 1.6614263743991946\n",
            "Epoch 50: Loss = 1.6495327836786753\n",
            "Epoch 51: Loss = 1.6377178404353419\n",
            "Epoch 52: Loss = 1.625986348975113\n",
            "Epoch 53: Loss = 1.6143410452762248\n",
            "Epoch 54: Loss = 1.6027824128834949\n",
            "Epoch 55: Loss = 1.5913099374366875\n",
            "Epoch 56: Loss = 1.579923971675589\n",
            "Epoch 57: Loss = 1.568625876023829\n",
            "Epoch 58: Loss = 1.5574167805272934\n",
            "Epoch 59: Loss = 1.5462963117081874\n",
            "Epoch 60: Loss = 1.5352640452751634\n",
            "Epoch 61: Loss = 1.5243197752381263\n",
            "Epoch 62: Loss = 1.5134636320276178\n",
            "Epoch 63: Loss = 1.502695312354308\n",
            "Epoch 64: Loss = 1.492013964109918\n",
            "Epoch 65: Loss = 1.4814195891042514\n",
            "Epoch 66: Loss = 1.4709130591014727\n",
            "Epoch 67: Loss = 1.4604960256369073\n",
            "Epoch 68: Loss = 1.4501707556209322\n",
            "Epoch 69: Loss = 1.439938496501722\n",
            "Epoch 70: Loss = 1.4297991079641619\n",
            "Epoch 71: Loss = 1.4197513491588674\n",
            "Epoch 72: Loss = 1.4097942167294772\n",
            "Epoch 73: Loss = 1.399927886879195\n",
            "Epoch 74: Loss = 1.3901520174670698\n",
            "Epoch 75: Loss = 1.3804659149132468\n",
            "Epoch 76: Loss = 1.3708691551951901\n",
            "Epoch 77: Loss = 1.3613622024755292\n",
            "Epoch 78: Loss = 1.3519451486105667\n",
            "Epoch 79: Loss = 1.3426167372721174\n",
            "Epoch 80: Loss = 1.333376015225702\n",
            "Epoch 81: Loss = 1.3242224704379923\n",
            "Epoch 82: Loss = 1.3151563736532457\n",
            "Epoch 83: Loss = 1.3061809177648958\n",
            "Epoch 84: Loss = 1.2972987854866642\n",
            "Epoch 85: Loss = 1.288508469599042\n",
            "Epoch 86: Loss = 1.2798081527932261\n",
            "Epoch 87: Loss = 1.2711971291327384\n",
            "Epoch 88: Loss = 1.262674927638659\n",
            "Epoch 89: Loss = 1.2542408172408352\n",
            "Epoch 90: Loss = 1.24589364476162\n",
            "Epoch 91: Loss = 1.2376325575706861\n",
            "Epoch 92: Loss = 1.2294573809677385\n",
            "Epoch 93: Loss = 1.2213681058300891\n",
            "Epoch 94: Loss = 1.2133642901860338\n",
            "Epoch 95: Loss = 1.2054449676457821\n",
            "Epoch 96: Loss = 1.197608849265364\n",
            "Epoch 97: Loss = 1.1898546173742282\n",
            "Epoch 98: Loss = 1.1821811334313919\n",
            "Epoch 99: Loss = 1.1745874798496896\n",
            "Epoch 100: Loss = 1.167072916724641\n",
            "Epoch 101: Loss = 1.1596367846000923\n",
            "Epoch 102: Loss = 1.152278354274209\n",
            "Epoch 103: Loss = 1.1449967514935824\n",
            "Epoch 104: Loss = 1.1377909744624495\n",
            "Epoch 105: Loss = 1.1306599452357908\n",
            "Epoch 106: Loss = 1.1236025865361237\n",
            "Epoch 107: Loss = 1.1166179135120302\n",
            "Epoch 108: Loss = 1.1097050675566245\n",
            "Epoch 109: Loss = 1.1028632936938796\n",
            "Epoch 110: Loss = 1.0960919445622166\n",
            "Epoch 111: Loss = 1.089390437687114\n",
            "Epoch 112: Loss = 1.0827581226829943\n",
            "Epoch 113: Loss = 1.0761941996193463\n",
            "Epoch 114: Loss = 1.069697800449271\n",
            "Epoch 115: Loss = 1.0632681937024255\n",
            "Epoch 116: Loss = 1.0569048631374052\n",
            "Epoch 117: Loss = 1.0506074120993696\n",
            "Epoch 118: Loss = 1.0443755363712146\n",
            "Epoch 119: Loss = 1.0382089575054647\n",
            "Epoch 120: Loss = 1.0321071906970765\n",
            "Epoch 121: Loss = 1.0260694981514231\n",
            "Epoch 122: Loss = 1.020095070547624\n",
            "Epoch 123: Loss = 1.0141830928390363\n",
            "Epoch 124: Loss = 1.0083326961568175\n",
            "Epoch 125: Loss = 1.0025429779200745\n",
            "Epoch 126: Loss = 0.9968130773795001\n",
            "Epoch 127: Loss = 0.9911422115426384\n",
            "Epoch 128: Loss = 0.98552966926048\n",
            "Epoch 129: Loss = 0.9799747896780325\n",
            "Epoch 130: Loss = 0.9744769246324153\n",
            "Epoch 131: Loss = 0.9690354040046218\n",
            "Epoch 132: Loss = 0.9636495350829629\n",
            "Epoch 133: Loss = 0.9583186347600231\n",
            "Epoch 134: Loss = 0.9530420735151468\n",
            "Epoch 135: Loss = 0.9478193189294992\n",
            "Epoch 136: Loss = 0.9426499555388259\n",
            "Epoch 137: Loss = 0.9375336288931939\n",
            "Epoch 138: Loss = 0.932469922926371\n",
            "Epoch 139: Loss = 0.9274582935595047\n",
            "Epoch 140: Loss = 0.9224981281235206\n",
            "Epoch 141: Loss = 0.9175888704287146\n",
            "Epoch 142: Loss = 0.9127301110407642\n",
            "Epoch 143: Loss = 0.9079215598863968\n",
            "Epoch 144: Loss = 0.9031629099622269\n",
            "Epoch 145: Loss = 0.8984537178000104\n",
            "Epoch 146: Loss = 0.8937933979032547\n",
            "Epoch 147: Loss = 0.8891812937323528\n",
            "Epoch 148: Loss = 0.8846167410844108\n",
            "Epoch 149: Loss = 0.8800990980499399\n",
            "Epoch 150: Loss = 0.8756277544697763\n",
            "Epoch 151: Loss = 0.8712021293157381\n",
            "Epoch 152: Loss = 0.8668216593348645\n",
            "Epoch 153: Loss = 0.8624857849832919\n",
            "Epoch 154: Loss = 0.858193939841099\n",
            "Epoch 155: Loss = 0.8539455458887676\n",
            "Epoch 156: Loss = 0.8497400140009508\n",
            "Epoch 157: Loss = 0.8455767479880291\n",
            "Epoch 158: Loss = 0.841455149533842\n",
            "Epoch 159: Loss = 0.8373746213457701\n",
            "Epoch 160: Loss = 0.833334568257443\n",
            "Epoch 161: Loss = 0.8293343995216101\n",
            "Epoch 162: Loss = 0.8253735366359564\n",
            "Epoch 163: Loss = 0.821451426273512\n",
            "Epoch 164: Loss = 0.8175675503410584\n",
            "Epoch 165: Loss = 0.8137214247236497\n",
            "Epoch 166: Loss = 0.8099125870933434\n",
            "Epoch 167: Loss = 0.8061405824617176\n",
            "Epoch 168: Loss = 0.8024049556309055\n",
            "Epoch 169: Loss = 0.7987052534649932\n",
            "Epoch 170: Loss = 0.7950410316014004\n",
            "Epoch 171: Loss = 0.7914118575493794\n",
            "Epoch 172: Loss = 0.7878173087997312\n",
            "Epoch 173: Loss = 0.7842569716949497\n",
            "Epoch 174: Loss = 0.7807304448784054\n",
            "Epoch 175: Loss = 0.7772373444059578\n",
            "Epoch 176: Loss = 0.7737773054324427\n",
            "Epoch 177: Loss = 0.770349977673431\n",
            "Epoch 178: Loss = 0.7669550138918833\n",
            "Epoch 179: Loss = 0.7635920543157697\n",
            "Epoch 180: Loss = 0.7602607164178348\n",
            "Epoch 181: Loss = 0.7569605990977458\n",
            "Epoch 182: Loss = 0.7536912979416099\n",
            "Epoch 183: Loss = 0.7504524196054262\n",
            "Epoch 184: Loss = 0.7472435888142637\n",
            "Epoch 185: Loss = 0.7440644492433476\n",
            "Epoch 186: Loss = 0.7409146608948516\n",
            "Epoch 187: Loss = 0.7377938953247265\n",
            "Epoch 188: Loss = 0.7347018265023121\n",
            "Epoch 189: Loss = 0.7316381175133201\n",
            "Epoch 190: Loss = 0.7286024153263395\n",
            "Epoch 191: Loss = 0.7255943617926777\n",
            "Epoch 192: Loss = 0.7226136123521445\n",
            "Epoch 193: Loss = 0.7196598486842636\n",
            "Epoch 194: Loss = 0.7167327760352201\n",
            "Epoch 195: Loss = 0.7138321091434459\n",
            "Epoch 196: Loss = 0.710957560518906\n",
            "Epoch 197: Loss = 0.7081088388073952\n",
            "Epoch 198: Loss = 0.7052856520769435\n",
            "Epoch 199: Loss = 0.7024877090934051\n",
            "Epoch 200: Loss = 0.6997147201032349\n",
            "Epoch 201: Loss = 0.6969664011616843\n",
            "Epoch 202: Loss = 0.6942424823414937\n",
            "Epoch 203: Loss = 0.69154271893646\n",
            "Epoch 204: Loss = 0.6888669006540601\n",
            "Epoch 205: Loss = 0.686214844255437\n",
            "Epoch 206: Loss = 0.683586363878656\n",
            "Epoch 207: Loss = 0.6809812371905859\n",
            "Epoch 208: Loss = 0.6783991919454644\n",
            "Epoch 209: Loss = 0.6758399202809924\n",
            "Epoch 210: Loss = 0.673303105927386\n",
            "Epoch 211: Loss = 0.6707884464087505\n",
            "Epoch 212: Loss = 0.6682956648062781\n",
            "Epoch 213: Loss = 0.6658245122830847\n",
            "Epoch 214: Loss = 0.6633747630012004\n",
            "Epoch 215: Loss = 0.6609462038988221\n",
            "Epoch 216: Loss = 0.6585386236645719\n",
            "Epoch 217: Loss = 0.6561518058684563\n",
            "Epoch 218: Loss = 0.6537855285346257\n",
            "Epoch 219: Loss = 0.6514395685632718\n",
            "Epoch 220: Loss = 0.6491137077439527\n",
            "Epoch 221: Loss = 0.6468077374968922\n",
            "Epoch 222: Loss = 0.6445214603596164\n",
            "Epoch 223: Loss = 0.642254687794227\n",
            "Epoch 224: Loss = 0.6400072360279097\n",
            "Epoch 225: Loss = 0.6377789222167666\n",
            "Epoch 226: Loss = 0.6355695619031613\n",
            "Epoch 227: Loss = 0.6333789676603466\n",
            "Epoch 228: Loss = 0.6312069487294457\n",
            "Epoch 229: Loss = 0.6290533115397337\n",
            "Epoch 230: Loss = 0.6269178607576367\n",
            "Epoch 231: Loss = 0.6248004002287851\n",
            "Epoch 232: Loss = 0.6227007333049654\n",
            "Epoch 233: Loss = 0.6206186626633173\n",
            "Epoch 234: Loss = 0.6185539903836127\n",
            "Epoch 235: Loss = 0.6165065189713065\n",
            "Epoch 236: Loss = 0.6144760530852408\n",
            "Epoch 237: Loss = 0.6124624009025681\n",
            "Epoch 238: Loss = 0.6104653742616486\n",
            "Epoch 239: Loss = 0.6084847877289054\n",
            "Epoch 240: Loss = 0.6065204574351152\n",
            "Epoch 241: Loss = 0.6045722003551828\n",
            "Epoch 242: Loss = 0.6026398341392042\n",
            "Epoch 243: Loss = 0.6007231772681053\n",
            "Epoch 244: Loss = 0.5988220493190561\n",
            "Epoch 245: Loss = 0.5969362712774609\n",
            "Epoch 246: Loss = 0.5950656659395613\n",
            "Epoch 247: Loss = 0.5932100584501819\n",
            "Epoch 248: Loss = 0.5913692769452863\n",
            "Epoch 249: Loss = 0.5895431531984207\n",
            "Epoch 250: Loss = 0.5877315231715574\n",
            "Epoch 251: Loss = 0.585934227430546\n",
            "Epoch 252: Loss = 0.584151111391649\n",
            "Epoch 253: Loss = 0.5823820252479539\n",
            "Epoch 254: Loss = 0.580626823303437\n",
            "Epoch 255: Loss = 0.5788853625823198\n",
            "Epoch 256: Loss = 0.5771575010360571\n",
            "Epoch 257: Loss = 0.5754430960873999\n",
            "Epoch 258: Loss = 0.5737420042015965\n",
            "Epoch 259: Loss = 0.5720540816215312\n",
            "Epoch 260: Loss = 0.5703791857374872\n",
            "Epoch 261: Loss = 0.568717176288186\n",
            "Epoch 262: Loss = 0.5670679158834565\n",
            "Epoch 263: Loss = 0.565431269864953\n",
            "Epoch 264: Loss = 0.5638071058254385\n",
            "Epoch 265: Loss = 0.5621952930738714\n",
            "Epoch 266: Loss = 0.5605957021602698\n",
            "Epoch 267: Loss = 0.5590082044654086\n",
            "Epoch 268: Loss = 0.5574326718669436\n",
            "Epoch 269: Loss = 0.5558689765634521\n",
            "Epoch 270: Loss = 0.5543169911976327\n",
            "Epoch 271: Loss = 0.5527765893923599\n",
            "Epoch 272: Loss = 0.5512476466509006\n",
            "Epoch 273: Loss = 0.5497300413338869\n",
            "Epoch 274: Loss = 0.5482236552862687\n",
            "Epoch 275: Loss = 0.5467283738048758\n",
            "Epoch 276: Loss = 0.5452440849819036\n",
            "Epoch 277: Loss = 0.5437706787963245\n",
            "Epoch 278: Loss = 0.5423080464164143\n",
            "Epoch 279: Loss = 0.5408560799783462\n",
            "Epoch 280: Loss = 0.5394146727695212\n",
            "Epoch 281: Loss = 0.5379837194953611\n",
            "Epoch 282: Loss = 0.5365631162842719\n",
            "Epoch 283: Loss = 0.5351527602822976\n",
            "Epoch 284: Loss = 0.533752548973675\n",
            "Epoch 285: Loss = 0.5323623795513167\n",
            "Epoch 286: Loss = 0.5309821486314492\n",
            "Epoch 287: Loss = 0.5296117524014281\n",
            "Epoch 288: Loss = 0.5282510870797619\n",
            "Epoch 289: Loss = 0.5269000494844891\n",
            "Epoch 290: Loss = 0.5255585375500829\n",
            "Epoch 291: Loss = 0.5242264507221026\n",
            "Epoch 292: Loss = 0.5229036902237821\n",
            "Epoch 293: Loss = 0.5215901592146603\n",
            "Epoch 294: Loss = 0.5202857628614431\n",
            "Epoch 295: Loss = 0.5189904083359894\n",
            "Epoch 296: Loss = 0.5177040047528961\n",
            "Epoch 297: Loss = 0.5164264630623975\n",
            "Epoch 298: Loss = 0.5151576959187566\n",
            "Epoch 299: Loss = 0.5138976175477127\n",
            "Epoch 300: Loss = 0.5126461436356892\n",
            "Epoch 301: Loss = 0.511403191257118\n",
            "Epoch 302: Loss = 0.5101686788461485\n",
            "Epoch 303: Loss = 0.5089425262067157\n",
            "Epoch 304: Loss = 0.5077246545446357\n",
            "Epoch 305: Loss = 0.5065149864993872\n",
            "Epoch 306: Loss = 0.5053134461537344\n",
            "Epoch 307: Loss = 0.5041199590057476\n",
            "Epoch 308: Loss = 0.5029344518978915\n",
            "Epoch 309: Loss = 0.5017568529078295\n",
            "Epoch 310: Loss = 0.5005870912131644\n",
            "Epoch 311: Loss = 0.4994250969444435\n",
            "Epoch 312: Loss = 0.49827080103936383\n",
            "Epoch 313: Loss = 0.4971241351072127\n",
            "Epoch 314: Loss = 0.49598503130868116\n",
            "Epoch 315: Loss = 0.49485342225361634\n",
            "Epoch 316: Loss = 0.4937292409174278\n",
            "Epoch 317: Loss = 0.49261242057676385\n",
            "Epoch 318: Loss = 0.4915028947636747\n",
            "Epoch 319: Loss = 0.49040059723611756\n",
            "Epoch 320: Loss = 0.48930546196118657\n",
            "Epoch 321: Loss = 0.4882174231057214\n",
            "Epoch 322: Loss = 0.48713641502884697\n",
            "Epoch 323: Loss = 0.4860623722716462\n",
            "Epoch 324: Loss = 0.48499522954219243\n",
            "Epoch 325: Loss = 0.4839349216971829\n",
            "Epoch 326: Loss = 0.482881383724829\n",
            "Epoch 327: Loss = 0.4818345507354668\n",
            "Epoch 328: Loss = 0.4807943579664688\n",
            "Epoch 329: Loss = 0.4797607408066723\n",
            "Epoch 330: Loss = 0.47873363484243725\n",
            "Epoch 331: Loss = 0.4777129759242253\n",
            "Epoch 332: Loss = 0.4766987002494482\n",
            "Epoch 333: Loss = 0.47569074445478743\n",
            "Epoch 334: Loss = 0.4746890457104511\n",
            "Epoch 335: Loss = 0.47369354180907647\n",
            "Epoch 336: Loss = 0.4727041712441005\n",
            "Epoch 337: Loss = 0.471720873274816\n",
            "Epoch 338: Loss = 0.47074358797797866\n",
            "Epoch 339: Loss = 0.4697722562874088\n",
            "Epoch 340: Loss = 0.4688068200238388\n",
            "Epoch 341: Loss = 0.46784722191698824\n",
            "Epoch 342: Loss = 0.46689340562192977\n",
            "Epoch 343: Loss = 0.46594531573106035\n",
            "Epoch 344: Loss = 0.4650028977834485\n",
            "Epoch 345: Loss = 0.46406609827313683\n",
            "Epoch 346: Loss = 0.4631348646579208\n",
            "Epoch 347: Loss = 0.4622091453695691\n",
            "Epoch 348: Loss = 0.4612888898261311\n",
            "Epoch 349: Loss = 0.4603740484451713\n",
            "Epoch 350: Loss = 0.45946457265607654\n",
            "Epoch 351: Loss = 0.4585604149077572\n",
            "Epoch 352: Loss = 0.4576615286670813\n",
            "Epoch 353: Loss = 0.4567678684029048\n",
            "Epoch 354: Loss = 0.4558793895511723\n",
            "Epoch 355: Loss = 0.4549960484576621\n",
            "Epoch 356: Loss = 0.4541178022974968\n",
            "Epoch 357: Loss = 0.4532446089723177\n",
            "Epoch 358: Loss = 0.45237642698860137\n",
            "Epoch 359: Loss = 0.4515132153221349\n",
            "Epoch 360: Loss = 0.45065493327545647\n",
            "Epoch 361: Loss = 0.44980154033582476\n",
            "Epoch 362: Loss = 0.4489529960416657\n",
            "Epoch 363: Loss = 0.44810925986457745\n",
            "Epoch 364: Loss = 0.4472702911130302\n",
            "Epoch 365: Loss = 0.44643604886187144\n",
            "Epoch 366: Loss = 0.4456064919101737\n",
            "Epoch 367: Loss = 0.4447815787682767\n",
            "Epoch 368: Loss = 0.4439612676735013\n",
            "Epoch 369: Loss = 0.4431455166325572\n",
            "Epoch 370: Loss = 0.44233428348740006\n",
            "Epoch 371: Loss = 0.4415275260000342\n",
            "Epoch 372: Loss = 0.44072520195101794\n",
            "Epoch 373: Loss = 0.4399272692460935\n",
            "Epoch 374: Loss = 0.4391336860257672\n",
            "Epoch 375: Loss = 0.43834441077329955\n",
            "Epoch 376: Loss = 0.43755940241771346\n",
            "Epoch 377: Loss = 0.4367786204287145\n",
            "Epoch 378: Loss = 0.436002024901331\n",
            "Epoch 379: Loss = 0.43522957662790057\n",
            "Epoch 380: Loss = 0.43446123715523405\n",
            "Epoch 381: Loss = 0.43369696882478104\n",
            "Epoch 382: Loss = 0.43293673479452244\n",
            "Epoch 383: Loss = 0.43218049904272543\n",
            "Epoch 384: Loss = 0.431428226355495\n",
            "Epoch 385: Loss = 0.4306798823030332\n",
            "Epoch 386: Loss = 0.42993543321095323\n",
            "Epoch 387: Loss = 0.4291948461342124\n",
            "Epoch 388: Loss = 0.428458088839902\n",
            "Epoch 389: Loss = 0.42772512980216826\n",
            "Epoch 390: Loss = 0.42699593820829324\n",
            "Epoch 391: Loss = 0.4262704839707712\n",
            "Epoch 392: Loss = 0.425548737737169\n",
            "Epoch 393: Loss = 0.42483067088909854\n",
            "Epoch 394: Loss = 0.4241162555236489\n",
            "Epoch 395: Loss = 0.42340546441389715\n",
            "Epoch 396: Loss = 0.4226982709497718\n",
            "Epoch 397: Loss = 0.42199464906381823\n",
            "Epoch 398: Loss = 0.42129457314867397\n",
            "Epoch 399: Loss = 0.4205980179732526\n",
            "Epoch 400: Loss = 0.4199049586039102\n",
            "Epoch 401: Loss = 0.4192153703347973\n",
            "Epoch 402: Loss = 0.4185292286299283\n",
            "Epoch 403: Loss = 0.41784650907785514\n",
            "Epoch 404: Loss = 0.41716718735880093\n",
            "Epoch 405: Loss = 0.4164912392236318\n",
            "Epoch 406: Loss = 0.41581864048382405\n",
            "Epoch 407: Loss = 0.4151493670114468\n",
            "Epoch 408: Loss = 0.4144833947476705\n",
            "Epoch 409: Loss = 0.4138206997179366\n",
            "Epoch 410: Loss = 0.41316125805080717\n",
            "Epoch 411: Loss = 0.41250504599714205\n",
            "Epoch 412: Loss = 0.41185203994588615\n",
            "Epoch 413: Loss = 0.41120221643333255\n",
            "Epoch 414: Loss = 0.41055555214409123\n",
            "Epoch 415: Loss = 0.4099120239035766\n",
            "Epoch 416: Loss = 0.40927160866389406\n",
            "Epoch 417: Loss = 0.40863428348623343\n",
            "Epoch 418: Loss = 0.40800002552368364\n",
            "Epoch 419: Loss = 0.40736881200791664\n",
            "Epoch 420: Loss = 0.4067406202426662\n",
            "Epoch 421: Loss = 0.40611542760540537\n",
            "Epoch 422: Loss = 0.40549321155730256\n",
            "Epoch 423: Loss = 0.4048739496609709\n",
            "Epoch 424: Loss = 0.40425761960406814\n",
            "Epoch 425: Loss = 0.4036441992271405\n",
            "Epoch 426: Loss = 0.40303366655362366\n",
            "Epoch 427: Loss = 0.4024259998199422\n",
            "Epoch 428: Loss = 0.4018211775038391\n",
            "Epoch 429: Loss = 0.4012191783494277\n",
            "Epoch 430: Loss = 0.4006199813872899\n",
            "Epoch 431: Loss = 0.40002356594877153\n",
            "Epoch 432: Loss = 0.3994299116735783\n",
            "Epoch 433: Loss = 0.398838998510623\n",
            "Epoch 434: Loss = 0.39825080671226065\n",
            "Epoch 435: Loss = 0.3976653168226832\n",
            "Epoch 436: Loss = 0.3970825096616977\n",
            "Epoch 437: Loss = 0.39650236630519703\n",
            "Epoch 438: Loss = 0.3959248680638826\n",
            "Epoch 439: Loss = 0.3953499964616673\n",
            "Epoch 440: Loss = 0.3947777332150115\n",
            "Epoch 441: Loss = 0.3942080602139598\n",
            "Epoch 442: Loss = 0.3936409595055819\n",
            "Epoch 443: Loss = 0.39307641327990733\n",
            "Epoch 444: Loss = 0.39251440385832903\n",
            "Epoch 445: Loss = 0.39195491368435625\n",
            "Epoch 446: Loss = 0.39139792531637796\n",
            "Epoch 447: Loss = 0.3908434214221411\n",
            "Epoch 448: Loss = 0.39029138477491565\n",
            "Epoch 449: Loss = 0.3897417982510965\n",
            "Epoch 450: Loss = 0.3891946448293328\n",
            "Epoch 451: Loss = 0.3886499075912917\n",
            "Epoch 452: Loss = 0.38810756972415195\n",
            "Epoch 453: Loss = 0.3875676145249972\n",
            "Epoch 454: Loss = 0.3870300254070793\n",
            "Epoch 455: Loss = 0.38649478590791214\n",
            "Epoch 456: Loss = 0.3859618796987832\n",
            "Epoch 457: Loss = 0.3854312905953169\n",
            "Epoch 458: Loss = 0.3849030025682835\n",
            "Epoch 459: Loss = 0.384376999754063\n",
            "Epoch 460: Loss = 0.38385326646398005\n",
            "Epoch 461: Loss = 0.3833317871920721\n",
            "Epoch 462: Loss = 0.3828125466210018\n",
            "Epoch 463: Loss = 0.38229552962619756\n",
            "Epoch 464: Loss = 0.38178072127873036\n",
            "Epoch 465: Loss = 0.38126810684766477\n",
            "Epoch 466: Loss = 0.38075767180283326\n",
            "Epoch 467: Loss = 0.380249401819037\n",
            "Epoch 468: Loss = 0.37974328278250224\n",
            "Epoch 469: Loss = 0.3792393007999721\n",
            "Epoch 470: Loss = 0.3787374422102184\n",
            "Epoch 471: Loss = 0.37823769359727083\n",
            "Epoch 472: Loss = 0.3777400418037174\n",
            "Epoch 473: Loss = 0.3772444739422247\n",
            "Epoch 474: Loss = 0.37675097740309293\n",
            "Epoch 475: Loss = 0.37625953985596644\n",
            "Epoch 476: Loss = 0.3757701492443729\n",
            "Epoch 477: Loss = 0.37528279377271423\n",
            "Epoch 478: Loss = 0.3747974618861824\n",
            "Epoch 479: Loss = 0.3743141422451267\n",
            "Epoch 480: Loss = 0.3738328236955341\n",
            "Epoch 481: Loss = 0.37335349523767736\n",
            "Epoch 482: Loss = 0.3728761459945898\n",
            "Epoch 483: Loss = 0.37240076518146964\n",
            "Epoch 484: Loss = 0.3719273420769087\n",
            "Epoch 485: Loss = 0.3714558659963596\n",
            "Epoch 486: Loss = 0.37098632626811007\n",
            "Epoch 487: Loss = 0.37051871221217697\n",
            "Epoch 488: Loss = 0.370053013122556\n",
            "Epoch 489: Loss = 0.36958921825333396\n",
            "Epoch 490: Loss = 0.3691273168093151\n",
            "Epoch 491: Loss = 0.36866729794148234\n",
            "Epoch 492: Loss = 0.3682091507476158\n",
            "Epoch 493: Loss = 0.3677528642779664\n",
            "Epoch 494: Loss = 0.367298427545573\n",
            "Epoch 495: Loss = 0.3668458295404694\n",
            "Epoch 496: Loss = 0.366395059246807\n",
            "Epoch 497: Loss = 0.36594610566178104\n",
            "Epoch 498: Loss = 0.3654989578151109\n",
            "Epoch 499: Loss = 0.36505360478797694\n"
          ]
        }
      ],
      "source": [
        "# TODO\n",
        "# Write your codes here\n",
        "params = TwoLayerNetwork(layer_dims)\n",
        "\n",
        "    # Initialize loss history\n",
        "loss_history = []\n",
        "\n",
        "    # Training loop\n",
        "for epoch in range(epochs):\n",
        "  # Forward pass\n",
        "  probs, intermediate = forward(x_train, params)\n",
        "\n",
        "  # Calculate loss\n",
        "  loss = MultiClassCrossEntropyLoss(y_train, probs)\n",
        "  loss_history.append(loss)\n",
        "\n",
        "  # Backpropagation\n",
        "  grads = backward(y_train, probs, intermediate, params)\n",
        "\n",
        "  # Update parameters using gradient descent\n",
        "  params[0] -= lr * grads[0]  # Update W1\n",
        "  params[1] -= lr * grads[1]  # Update b1\n",
        "  params[2] -= lr * grads[2]  # Update W2\n",
        "  params[3] -= lr * grads[3]  # Update b2\n",
        "\n",
        "  # print(params[1])\n",
        "  # print(params[3])\n",
        "\n",
        "  # Print loss every 20 epochs\n",
        "  if epoch % 1 == 0:\n",
        "    print(f\"Epoch {epoch}: Loss = {loss}\")\n"
      ]
    },
    {
      "cell_type": "markdown",
      "metadata": {
        "id": "mAtKFEjTUuAQ"
      },
      "source": [
        "Now we will plot the recorded loss values vs epochs. We will observe the training loss decreasing with the epochs."
      ]
    },
    {
      "cell_type": "code",
      "execution_count": null,
      "metadata": {
        "id": "Hw14IunrUuAQ",
        "colab": {
          "base_uri": "https://localhost:8080/",
          "height": 449
        },
        "outputId": "623717e3-b481-4bce-f532-aac64d4a6d87"
      },
      "outputs": [
        {
          "output_type": "display_data",
          "data": {
            "text/plain": [
              "<Figure size 640x480 with 1 Axes>"
            ],
            "image/png": "[encoded data removed]"
          },
          "metadata": {}
        }
      ],
      "source": [
        "plt.figure()\n",
        "plt.plot(loss_history)\n",
        "plt.xlabel(\"Epochs\")\n",
        "plt.ylabel(\"Training Loss\")\n",
        "plt.show()"
      ]
    }
  ],
  "metadata": {
    "colab": {
      "provenance": [],
      "include_colab_link": true
    },
    "kernelspec": {
      "display_name": "Python 3 (ipykernel)",
      "language": "python",
      "name": "python3"
    },
    "language_info": {
      "codemirror_mode": {
        "name": "ipython",
        "version": 3
      },
      "file_extension": ".py",
      "mimetype": "text/x-python",
      "name": "python",
      "nbconvert_exporter": "python",
      "pygments_lexer": "ipython3",
      "version": "3.9.13"
    }
  },
  "nbformat": 4,
  "nbformat_minor": 0
}